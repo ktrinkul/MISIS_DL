{
  "nbformat": 4,
  "nbformat_minor": 0,
  "metadata": {
    "colab": {
      "provenance": [],
      "collapsed_sections": [
        "3PpkVFDM_wZS",
        "JBD4NnF8_4JV"
      ],
      "toc_visible": true,
      "gpuType": "T4"
    },
    "kernelspec": {
      "name": "python3",
      "display_name": "Python 3"
    },
    "language_info": {
      "name": "python"
    },
    "accelerator": "GPU"
  },
  "cells": [
    {
      "cell_type": "code",
      "source": [
        "import torch\n",
        "from tqdm import tqdm"
      ],
      "metadata": {
        "id": "2bxS2ME4_Ozr"
      },
      "execution_count": null,
      "outputs": []
    },
    {
      "cell_type": "code",
      "execution_count": null,
      "metadata": {
        "id": "ajubQLxH-IJu"
      },
      "outputs": [],
      "source": [
        "from transformers import AutoModelForCausalLM, AutoTokenizer\n",
        "\n",
        "model = AutoModelForCausalLM.from_pretrained('Qwen/Qwen2.5-0.5B-Instruct').eval().to(\"cuda\")\n",
        "tokenizer = AutoTokenizer.from_pretrained('Qwen/Qwen2.5-0.5B-Instruct')"
      ]
    },
    {
      "cell_type": "code",
      "source": [
        "# два промпта\n",
        "input_text_hedgehog = '<|im_start|>system\\nYou are a storyteller. Generate a story based on user message.<|im_end|>\\n<|im_start|>user\\nGenerate me a short story about a tiny hedgehog named Sonic.<|im_end|>\\n<|im_start|>assistant\\n'\n",
        "input_text_json = '<|im_start|>system\\nYou are a JSON machine. Generate a JSON with format {\"contractor\": string with normalized contractor name, \"sum\": decimal, \"currency\": string with uppercased 3-letter currency code} based on user message.<|im_end|>\\n<|im_start|>user\\nTransfer 100 rubles and 50 kopeck to Mike<|im_end|>\\n<|im_start|>assistant\\n'"
      ],
      "metadata": {
        "id": "RSb0Cxpj-RXi"
      },
      "execution_count": null,
      "outputs": []
    },
    {
      "cell_type": "code",
      "source": [
        "# logits = model(input_ids=..., attention_mask=...).logits\n",
        "# logits_for_first_batch_and_last_token = logits[0, -1]"
      ],
      "metadata": {
        "id": "M8SXFWUc-fv5"
      },
      "execution_count": null,
      "outputs": []
    },
    {
      "cell_type": "code",
      "source": [
        "def save_to_file(content, filepath):\n",
        "    \"\"\"Сохраняет текст в файл\"\"\"\n",
        "    with open(filepath, 'w', encoding='utf-8') as f:\n",
        "        f.write(content)\n",
        "    print(f\"Файл сохранен: {filepath}\")"
      ],
      "metadata": {
        "id": "0F0ew3UiLbaa"
      },
      "execution_count": null,
      "outputs": []
    },
    {
      "cell_type": "markdown",
      "source": [
        "#Задача 1. Greedy Decoding"
      ],
      "metadata": {
        "id": "3PpkVFDM_wZS"
      }
    },
    {
      "cell_type": "code",
      "source": [
        "def greedy_decode(input_text, max_length=1000):\n",
        "\n",
        "    # объект Encoding, в котором содержатся ids и attention_mask\n",
        "    encoding = tokenizer(input_text).encodings[0]\n",
        "\n",
        "    # токенизация encoding\n",
        "    input_ids = torch.tensor([encoding.ids]).long()\n",
        "    attention_mask = torch.tensor([encoding.attention_mask]).long()\n",
        "\n",
        "    generated_ids = input_ids.clone()\n",
        "    eos_token_id = 151645\n",
        "\n",
        "    # для отображения прогресса\n",
        "    progress_bar = tqdm(total=max_length, desc=\"Generating tokens\", unit=\"token\")\n",
        "\n",
        "    # длина генерации превысила 1000 токенов\n",
        "    for _ in range(max_length):\n",
        "        with torch.no_grad():\n",
        "            # модель возвращает логиты\n",
        "            logits = model(input_ids=generated_ids, attention_mask=attention_mask).logits\n",
        "        # Логиты для последнего токена в последовательности\n",
        "        logits_for_first_batch_and_last_token = logits[0, -1, :]\n",
        "        # Выбираем токен с максимальной вероятностью\n",
        "        next_token_id = torch.argmax(logits_for_first_batch_and_last_token).item()\n",
        "\n",
        "        # сгенерировался EOS-токен с ID = 151645\n",
        "        if next_token_id == eos_token_id:\n",
        "            progress_bar.update(1)\n",
        "            progress_bar.close()\n",
        "            break\n",
        "\n",
        "        generated_ids = torch.cat([generated_ids, torch.tensor([[next_token_id]]).long()], dim=-1)\n",
        "        attention_mask = torch.cat([attention_mask, torch.tensor([[1]]).long()], dim=-1)\n",
        "        progress_bar.update(1)\n",
        "\n",
        "    progress_bar.close()\n",
        "    return generated_ids[0].tolist()\n"
      ],
      "metadata": {
        "id": "x1foVne2_G_g"
      },
      "execution_count": null,
      "outputs": []
    },
    {
      "cell_type": "code",
      "source": [
        "print(\"Generating hedgehog story...\")\n",
        "hedgehog_ids = greedy_decode(input_text_hedgehog)\n",
        "hedgehog_text = tokenizer.decode(hedgehog_ids, skip_special_tokens=True)\n",
        "print(\"\\nGenerated hedgehog story:\")\n",
        "print(hedgehog_text)"
      ],
      "metadata": {
        "id": "u8ZooX9j_ctS"
      },
      "execution_count": null,
      "outputs": []
    },
    {
      "cell_type": "code",
      "source": [
        "save_to_file(hedgehog_text, 'hedgehog_text_1.txt')"
      ],
      "metadata": {
        "id": "YL_q9jMPLeaW"
      },
      "execution_count": null,
      "outputs": []
    },
    {
      "cell_type": "code",
      "source": [
        "print(\"\\nGenerating JSON...\")\n",
        "json_ids = greedy_decode(input_text_json)\n",
        "json_text = tokenizer.decode(json_ids, skip_special_tokens=True)\n",
        "print(\"\\nGenerated JSON:\")\n",
        "print(json_text)"
      ],
      "metadata": {
        "id": "PcJnbcgV_s6X"
      },
      "execution_count": null,
      "outputs": []
    },
    {
      "cell_type": "code",
      "source": [
        "save_to_file(json_text, 'json_text_1.json')"
      ],
      "metadata": {
        "id": "4GPj5p5ILqvQ"
      },
      "execution_count": null,
      "outputs": []
    },
    {
      "cell_type": "markdown",
      "source": [
        "Результаты:\n",
        "- Если запустить алгоритм несколько раз, то будут ли различаться генерации?\n",
        "\n",
        "Результат генерации не будет различаться в зависимости от параметров модели (Temperature, Top_K and Top_P не применимы для greedy decoding), так как в greedy decoding всегда выбирается максимальный по вероятности токен\n",
        "- Какие есть проблемы с таким подходом к генерации в случае с генерацией сказки и в случае с генерацией JSON?\n",
        "\n",
        "В генерации текста - простота, тк выбирается наиболее подходящий вариант\n",
        "\n",
        "В генерации JSON - может привести к ошибкам в структуре (тк они неочевидны и задаются через промт)\n",
        "- Сгенерированный текст про ёжика и сгенерированный JSON."
      ],
      "metadata": {
        "id": "k4JG-9Q5H2ao"
      }
    },
    {
      "cell_type": "markdown",
      "source": [
        "# Задача 2. Sampling"
      ],
      "metadata": {
        "id": "JBD4NnF8_4JV"
      }
    },
    {
      "cell_type": "code",
      "source": [
        "def sample_decode(input_text, max_length=1000):\n",
        "\n",
        "    # объект Encoding, в котором содержатся ids и attention_mask\n",
        "    encoding = tokenizer(input_text).encodings[0]\n",
        "\n",
        "    # токенизация encoding\n",
        "    input_ids = torch.tensor([encoding.ids]).long()\n",
        "    attention_mask = torch.tensor([encoding.attention_mask]).long()\n",
        "\n",
        "    generated_ids = input_ids.clone()\n",
        "    eos_token_id = 151645\n",
        "\n",
        "    # для отображения прогресса\n",
        "    progress_bar = tqdm(total=max_length, desc=\"Generating tokens\", unit=\"token\")\n",
        "\n",
        "    # длина генерации превысила 1000 токенов\n",
        "    for _ in range(max_length):\n",
        "        with torch.no_grad():\n",
        "            # модель возвращает логиты\n",
        "            logits = model(input_ids=generated_ids, attention_mask=attention_mask).logits\n",
        "        # Логиты для последнего токена в последовательности\n",
        "        next_token_logits = logits[0, -1, :]\n",
        "\n",
        "        # Преобразование логитов в вероятности\n",
        "        probs = torch.softmax(next_token_logits, dim=-1)\n",
        "        next_token_id = torch.multinomial(probs, num_samples=1).item()\n",
        "\n",
        "        # Если сгенерировался EOS-токен с ID = 151645\n",
        "        if next_token_id == eos_token_id:\n",
        "            progress_bar.update(1)\n",
        "            progress_bar.close()\n",
        "            break\n",
        "\n",
        "        generated_ids = torch.cat([generated_ids, torch.tensor([[next_token_id]]).long()], dim=-1)\n",
        "        attention_mask = torch.cat([attention_mask, torch.tensor([[1]]).long()], dim=-1)\n",
        "        progress_bar.update(1)\n",
        "\n",
        "    progress_bar.close()\n",
        "    return generated_ids[0].tolist()\n"
      ],
      "metadata": {
        "id": "eWe6PUdQ_7ec"
      },
      "execution_count": null,
      "outputs": []
    },
    {
      "cell_type": "code",
      "source": [
        "for i in range(3):\n",
        "\n",
        "  print(\"Generating hedgehog story...\")\n",
        "  hedgehog_ids = sample_decode(input_text_hedgehog)\n",
        "  hedgehog_text = tokenizer.decode(hedgehog_ids, skip_special_tokens=True)\n",
        "\n",
        "  print(\"\\nGenerated hedgehog story:\")\n",
        "  print(hedgehog_text)\n",
        "\n",
        "  save_to_file(hedgehog_text, f'hedgehog_text_2_{i}.json')"
      ],
      "metadata": {
        "id": "z3k9Ulm_N8uW"
      },
      "execution_count": null,
      "outputs": []
    },
    {
      "cell_type": "code",
      "source": [
        "for i in range(3):\n",
        "\n",
        "  print(\"\\nGenerating JSON...\")\n",
        "  json_ids = sample_decode(input_text_json)\n",
        "  json_text = tokenizer.decode(json_ids, skip_special_tokens=True)\n",
        "\n",
        "  print(\"\\nGenerating JSON...\")\n",
        "  print(json_text)\n",
        "\n",
        "  save_to_file(json_text, f'json_text_2_{i}.json')"
      ],
      "metadata": {
        "collapsed": true,
        "id": "_WG3EkANN8_a"
      },
      "execution_count": null,
      "outputs": []
    },
    {
      "cell_type": "markdown",
      "source": [
        "Результаты:\n",
        "- Если запустить алгоритм несколько раз, то будут ли различаться генерации?\n",
        "\n",
        "Результат генерации будет различаться тк выбор токена происходит случайно на основе распределения вероятностей\n",
        "- Какие есть проблемы с таким подходом к генерации в случае с генерацией сказки и в случае с генерацией JSON?\n",
        "\n",
        "В генерации текста - более творческие варианты, но стоит учитывать влияние температуры и не переборщить. В одной из генераций все ушло в несвязанный текст на другую тему.\n",
        "\n",
        "В генерации JSON - может привести к ошибкам в структуре и нарушить строгий формат JSON. В моих генерация такого не произошло, но были логические ошибки в тексте.\n",
        "\n",
        "- Сгенерированные тексты про ёжика и сгенерированные JSONы."
      ],
      "metadata": {
        "id": "ROWpKdRTHUck"
      }
    },
    {
      "cell_type": "markdown",
      "source": [
        "# Задача 3. Sampling meets Temperature"
      ],
      "metadata": {
        "id": "F6Aziz8qHOrR"
      }
    },
    {
      "cell_type": "code",
      "source": [
        "from tqdm import tqdm"
      ],
      "metadata": {
        "id": "Q8m98POpLlp-"
      },
      "execution_count": null,
      "outputs": []
    },
    {
      "cell_type": "code",
      "source": [
        "def sample_decode_temp(input_text, max_length=1000, temperature = 0.5):\n",
        "\n",
        "    # объект Encoding, в котором содержатся ids и attention_mask\n",
        "    encoding = tokenizer(input_text).encodings[0]\n",
        "\n",
        "    # токенизация encoding\n",
        "    input_ids = torch.tensor([encoding.ids]).long()\n",
        "    attention_mask = torch.tensor([encoding.attention_mask]).long()\n",
        "\n",
        "    generated_ids = input_ids.clone()\n",
        "    eos_token_id = 151645\n",
        "\n",
        "    # для отображения прогресса\n",
        "    progress_bar = tqdm(total=max_length, desc=\"Generating tokens\", unit=\"token\")\n",
        "\n",
        "    # длина генерации превысила 1000 токенов\n",
        "    for _ in range(max_length):\n",
        "        with torch.no_grad():\n",
        "            # модель возвращает логиты\n",
        "            logits = model(input_ids=generated_ids.to(\"cuda\"), attention_mask=attention_mask.to(\"cuda\")).logits.detach()\n",
        "        # Логиты для последнего токена в последовательности\n",
        "        next_token_logits = logits[0, -1, :]\n",
        "\n",
        "        # Настройка температуры\n",
        "        next_token_logits = next_token_logits / temperature\n",
        "\n",
        "        # Преобразование логитов в вероятности\n",
        "        probs = torch.softmax(next_token_logits, dim=-1)\n",
        "        next_token_id = torch.multinomial(probs, num_samples=1).item()\n",
        "\n",
        "        # Если сгенерировался EOS-токен с ID = 151645\n",
        "        if next_token_id == eos_token_id:\n",
        "            progress_bar.update(1)\n",
        "            progress_bar.close()\n",
        "            break\n",
        "\n",
        "        generated_ids = torch.cat([generated_ids, torch.tensor([[next_token_id]]).long()], dim=-1)\n",
        "        attention_mask = torch.cat([attention_mask, torch.tensor([[1]]).long()], dim=-1)\n",
        "        progress_bar.update(1)\n",
        "\n",
        "    progress_bar.close()\n",
        "    return generated_ids[0].cpu().tolist()\n"
      ],
      "metadata": {
        "id": "ABL75siZpyJh"
      },
      "execution_count": null,
      "outputs": []
    },
    {
      "cell_type": "code",
      "source": [
        "temperature = [0.001, 0.1, 0.5, 1.0, 10.0]"
      ],
      "metadata": {
        "id": "X8h834ipbRQQ"
      },
      "execution_count": null,
      "outputs": []
    },
    {
      "cell_type": "code",
      "source": [
        "for temp in temperature:\n",
        "\n",
        "  print(\"Generating hedgehog story...\")\n",
        "  hedgehog_ids = sample_decode_temp(input_text_hedgehog, temperature = temp)\n",
        "  hedgehog_text = tokenizer.decode(hedgehog_ids, skip_special_tokens=True)\n",
        "\n",
        "  print(\"\\nGenerated hedgehog story:\")\n",
        "  print(hedgehog_text)\n",
        "\n",
        "  save_to_file(hedgehog_text, f'hedgehog_text_3_{temp}.json')"
      ],
      "metadata": {
        "collapsed": true,
        "id": "vZ-n68J-kybm"
      },
      "execution_count": null,
      "outputs": []
    },
    {
      "cell_type": "code",
      "source": [
        "for temp in temperature:\n",
        "\n",
        "  print(\"\\nGenerating JSON...\")\n",
        "  json_ids = sample_decode_temp(input_text_json, temperature = temp)\n",
        "  json_text = tokenizer.decode(json_ids, skip_special_tokens=True)\n",
        "\n",
        "  print(\"\\nGenerating JSON...\")\n",
        "  print(json_text)\n",
        "\n",
        "  save_to_file(json_text, f'json_text_3_{temp}.json')"
      ],
      "metadata": {
        "collapsed": true,
        "id": "w7UPp8nIkymX"
      },
      "execution_count": null,
      "outputs": []
    },
    {
      "cell_type": "markdown",
      "source": [
        "Результаты:\n",
        "- Как отличаются генерации с температурами: 0.001, 0.1, 0.5, 1.0, 10.0?\n",
        "\n",
        "Дефолтное значение моделей обычно окол 0.5. При значениях ниже генерации похожи между собой и не отличаются оригинальностью. При значениях выше - получает плохо связанный текст и очень плохая структура файла.\n",
        "\n",
        "при первых двух згначениях (меньше дефолтных) генерятся очень похожие между собой результаты\n",
        "при 10 (что значительно превышает дефолтное) генерится \"мусор\", тк модель слишком бредит\n",
        "\n",
        "- Есть ли какая-то закономерность при уменьшении/увеличении температуры?\n",
        "\n",
        "Чем выше температура - тем больше модель \"бредит\", выбирая более непредсказуемые токены\n",
        "- Для каких задач какая температура лучше?\n",
        "\n",
        "Для творческих задач (сказки, человекоподобный ответ) - температура повыше\n",
        "\n",
        "Для задач, где важна структура - например код, конкретная фраза опредленного формата, то лучше брать значения меньше\n",
        "\n",
        "- Приложить сгенерированные текста про ёжика и сгенерированные JSON, по одному тексту про ёжика и одному JSON для каждой температуры из 0.001, 0.1, 0.5, 1.0, 10.0"
      ],
      "metadata": {
        "id": "FLz9sdhjhdMH"
      }
    },
    {
      "cell_type": "markdown",
      "source": [
        "# Задача 4. Nucleus Sampling"
      ],
      "metadata": {
        "id": "IgG1807NRMNP"
      }
    },
    {
      "cell_type": "markdown",
      "source": [
        "Как прошлая задача, но нужно сэмплировать не из всего распределения, а только среди самых вероятных токенов.\n",
        "\n",
        "Как это сделать:\n",
        "\n",
        "- Имеем распределение вероятностей по токенам, полученное от модели с применённой температурой.\n",
        "- Оставляем только самые вероятные токены, кумулятивная вероятность которых не превышает top_p.\n",
        "- Остальные выбрасываем.\n",
        "- Если так получилось, что самый вероятный токен уже имеет вероятность больше, чем top_p, - оставляем только его.\n",
        "- Так как вектор из вероятностей теперь не совсем распределение (значения не суммируются в 1), то отмасштабируем каждую вероятность, разделив её на сумму всех вероятностей.\n",
        "- Теперь значения суммируется в 1.\n",
        "- Смотрите формулу #3 в статье.\n",
        "![Снимок экрана 2025-05-16 в 16.45.28.png](data:image/png;base64,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)\n",
        "- Выполняем сэмплирование."
      ],
      "metadata": {
        "id": "m9Mgp63HPgdK"
      }
    },
    {
      "cell_type": "code",
      "source": [
        "def nucleus_sample(input_text, max_length=1000, temperature = 0.5, top_p = 1.0):\n",
        "\n",
        "    # объект Encoding, в котором содержатся ids и attention_mask\n",
        "    encoding = tokenizer(input_text).encodings[0]\n",
        "\n",
        "    # токенизация encoding\n",
        "    input_ids = torch.tensor([encoding.ids]).long()\n",
        "    attention_mask = torch.tensor([encoding.attention_mask]).long()\n",
        "\n",
        "    generated_ids = input_ids.clone()\n",
        "    eos_token_id = 151645\n",
        "\n",
        "    # для отображения прогресса\n",
        "    progress_bar = tqdm(total=max_length, desc=\"Generating tokens\", unit=\"token\")\n",
        "\n",
        "    # длина генерации превысила 1000 токенов\n",
        "    for _ in range(max_length):\n",
        "        with torch.no_grad():\n",
        "            # модель возвращает логиты\n",
        "            logits = model(input_ids=generated_ids.to(\"cuda\"), attention_mask=attention_mask.to(\"cuda\")).logits.detach()\n",
        "        # Логиты для последнего токена в последовательности\n",
        "        next_token_logits = logits[0, -1, :]\n",
        "\n",
        "        # Настройка температуры\n",
        "        next_token_logits = next_token_logits / temperature\n",
        "        # Преобразование логитов в вероятности\n",
        "        probs = torch.softmax(next_token_logits, dim=-1)\n",
        "\n",
        "        #\n",
        "        sorted_probs, sorted_indices = torch.sort(probs, descending=True)\n",
        "        cumulative_probs = torch.cumsum(sorted_probs, dim=-1)\n",
        "\n",
        "        # минимальный набор токенов, покрывающий top_p\n",
        "        mask = cumulative_probs >= top_p\n",
        "        if mask.any():\n",
        "            cutoff = torch.argmax(mask.to(torch.long))\n",
        "        else:\n",
        "            cutoff = sorted_probs.size(-1) - 1\n",
        "\n",
        "        # обнуление остальных\n",
        "        sorted_probs[(cutoff+1):] = 0.0\n",
        "        # исходный порядок токенов\n",
        "        probs.scatter_(-1, sorted_indices, sorted_probs)\n",
        "        # нормализация\n",
        "        probs.div_(probs.sum())\n",
        "        #\n",
        "\n",
        "        next_token_id = torch.multinomial(probs, num_samples=1).item()\n",
        "\n",
        "        # Если сгенерировался EOS-токен с ID = 151645\n",
        "        if next_token_id == eos_token_id:\n",
        "            progress_bar.update(1)\n",
        "            progress_bar.close()\n",
        "            break\n",
        "\n",
        "        generated_ids = torch.cat([generated_ids, torch.tensor([[next_token_id]]).long()], dim=-1)\n",
        "        attention_mask = torch.cat([attention_mask, torch.tensor([[1]]).long()], dim=-1)\n",
        "        progress_bar.update(1)\n",
        "\n",
        "    progress_bar.close()\n",
        "    return generated_ids[0].cpu().tolist()\n"
      ],
      "metadata": {
        "id": "SvFxmaEZRUfO"
      },
      "execution_count": null,
      "outputs": []
    },
    {
      "cell_type": "code",
      "source": [
        "temperature = [1, 0.5]\n",
        "top_p = [0.9, 0.15]"
      ],
      "metadata": {
        "id": "BQVhzY74QNBz"
      },
      "execution_count": null,
      "outputs": []
    },
    {
      "cell_type": "code",
      "source": [
        "for temp in temperature:\n",
        "  for p in top_p:\n",
        "\n",
        "    print(\"Generating hedgehog story...\")\n",
        "    hedgehog_ids = nucleus_sample(input_text_hedgehog, temperature = temp, top_p = p)\n",
        "    hedgehog_text = tokenizer.decode(hedgehog_ids, skip_special_tokens=True)\n",
        "\n",
        "    print(\"\\nGenerated hedgehog story:\")\n",
        "    print(hedgehog_text)\n",
        "\n",
        "    save_to_file(hedgehog_text, f'hedgehog_text_4_{temp}_{p}.json')"
      ],
      "metadata": {
        "collapsed": true,
        "id": "O6VxtD0jbFzM"
      },
      "execution_count": null,
      "outputs": []
    },
    {
      "cell_type": "code",
      "source": [
        "for temp in temperature:\n",
        "  for p in top_p:\n",
        "\n",
        "    print(\"\\nGenerating JSON...\")\n",
        "    json_ids = nucleus_sample(input_text_json, temperature = temp, top_p = p)\n",
        "    json_text = tokenizer.decode(json_ids, skip_special_tokens=True)\n",
        "\n",
        "    print(\"\\nGenerating JSON...\")\n",
        "    print(json_text)\n",
        "\n",
        "    save_to_file(json_text, f'json_text_4_{temp}_{p}.json')"
      ],
      "metadata": {
        "collapsed": true,
        "id": "70FOExUbY3Dn"
      },
      "execution_count": null,
      "outputs": []
    },
    {
      "cell_type": "markdown",
      "source": [
        "Результаты:\n",
        "- Как отличаются генерации с\n",
        "1.   temperature=1, top_p=0.9; - генерация разнообразная за счет значения температуры, но исключает очень редкие токены, что спасает от генерации мусора\n",
        "2.   temperature=1, top_p=0.15 - за счет жесткого ограничения top/-p текст даже с такой температурой становится более предсказуемым\n",
        "3.   temperature=0.5, top_p=0.9 - за счет высокого значения top_p делает тексты более разнообращзными даже при небольшом значении температуры\n",
        "4.   temperature=0.5, top_p=0.15? - очень шаблонный текст за счет маленьких значений обоих параматеров\n",
        "\n",
        "- Помог ли nucleus sampling исправить какие-то проблемы, которые были при простом сэмплировании с температурой?\n",
        "\n",
        "Исправил проблему генерации мусора, умеьшая влияния одного параметра на итоговый текст\n",
        "\n",
        "- Приложить сгенерированные текста про ёжика и сгенерированные JSON, по одному тексту про ёжика и одному JSON для каждого набора параметров"
      ],
      "metadata": {
        "id": "5HdpQDOaPkTB"
      }
    },
    {
      "cell_type": "markdown",
      "source": [
        "# Задача 5. Early-Stopped Beam Search"
      ],
      "metadata": {
        "id": "ov2toU0lSdJW"
      }
    },
    {
      "cell_type": "code",
      "source": [
        "import torch.nn.functional as F"
      ],
      "metadata": {
        "id": "uyVtFwFACGv8"
      },
      "execution_count": null,
      "outputs": []
    },
    {
      "cell_type": "code",
      "source": [
        "def stop_beam_search(input_text, max_length=1000, num_beams=4, length_penalty=1.0):\n",
        "\n",
        "    # объект Encoding, в котором содержатся ids и attention_mask\n",
        "    encoding = tokenizer(input_text).encodings[0]\n",
        "\n",
        "    # токенизация encoding\n",
        "    input_ids = torch.tensor([encoding.ids]).long()\n",
        "    attention_mask = torch.tensor([encoding.attention_mask]).long()\n",
        "\n",
        "    generated_ids = input_ids.clone()\n",
        "    eos_token_id = 151645\n",
        "\n",
        "    # кандидаты\n",
        "    unfinished_candidates = [{\n",
        "        'tokens': input_ids,\n",
        "        'attention_mask': attention_mask,\n",
        "        'score': 0.0\n",
        "    }]\n",
        "    finished_candidates = []\n",
        "\n",
        "    # для отображения прогресса\n",
        "    progress_bar = tqdm(total=max_length, desc=\"Generating tokens\", unit=\"token\")\n",
        "\n",
        "    # длина генерации превысила 1000 токенов\n",
        "    for _ in range(max_length):\n",
        "        all_candidates = []\n",
        "\n",
        "        for candidate in unfinished_candidates:\n",
        "            tokens = candidate['tokens']\n",
        "            att_mask = candidate['attention_mask']\n",
        "            score = candidate['score']\n",
        "\n",
        "            with torch.no_grad():\n",
        "                # модель возвращает логиты\n",
        "                logits = model(input_ids=tokens.to(\"cuda\"), attention_mask=att_mask.to(\"cuda\")).logits.detach()\n",
        "            # Логиты для последнего токена в последовательности\n",
        "            last_token_logits = logits[0, -1, :]\n",
        "            log_probs = F.log_softmax(last_token_logits, dim=-1)\n",
        "\n",
        "            # num_beams самых вероятных токенов\n",
        "            top_log_probs, top_token_ids = torch.topk(log_probs, num_beams)\n",
        "\n",
        "            for log_prob, token_id in zip(top_log_probs.tolist(), top_token_ids.tolist()):\n",
        "              new_tokens = torch.cat([tokens, torch.tensor([[token_id]]).long()], dim=-1)\n",
        "              new_attention_mask = torch.cat([att_mask, torch.tensor([[1]]).long()], dim=-1)\n",
        "\n",
        "              new_score = score + log_prob\n",
        "\n",
        "              candidate_obj = {\n",
        "                    'tokens': new_tokens.cpu(),\n",
        "                    'attention_mask': new_attention_mask.cpu(),\n",
        "                    'score': new_score\n",
        "              }\n",
        "\n",
        "              # сгенерировался EOS-токен с ID = 151645\n",
        "              if token_id == eos_token_id:\n",
        "                finished_candidates.append(candidate_obj)\n",
        "              else:\n",
        "                all_candidates.append(candidate_obj)\n",
        "\n",
        "\n",
        "        # законченные кандидаты - num_beams, добавляем их и удаляем из незаконченных\n",
        "        all_candidates = sorted(all_candidates, key=lambda c: c['score'], reverse=True)\n",
        "        unfinished_candidates = all_candidates[:num_beams]\n",
        "\n",
        "        # есть законченные кандидаты - добавляем\n",
        "        finished_candidates = sorted(finished_candidates, key=lambda c: c['score'] / (c['tokens'].shape[-1] ** length_penalty), reverse=True)\n",
        "        if len(finished_candidates) >= num_beams:\n",
        "            progress_bar.update(1)\n",
        "            break\n",
        "\n",
        "        # нет незаконченных кандидатов\n",
        "        if len(unfinished_candidates) == 0:\n",
        "            progress_bar.update(1)\n",
        "            break\n",
        "\n",
        "        progress_bar.update(1)\n",
        "\n",
        "    progress_bar.close()\n",
        "\n",
        "    # законченные кандидаты: лучший по формуле ранжирования\n",
        "    if finished_candidates:\n",
        "        best_candidate = max(\n",
        "            finished_candidates,\n",
        "            key=lambda c: c['score'] / (c['tokens'].shape[-1] ** length_penalty)\n",
        "        )\n",
        "    else:\n",
        "        # лучший из незаконченных\n",
        "        best_candidate = max(\n",
        "            unfinished_candidates,\n",
        "            key=lambda c: c['score'] / (c['tokens'].shape[-1] ** length_penalty)\n",
        "        )\n",
        "\n",
        "    return best_candidate['tokens'][0].cpu().tolist()"
      ],
      "metadata": {
        "id": "fyU7WgCCSl3-"
      },
      "execution_count": null,
      "outputs": []
    },
    {
      "cell_type": "code",
      "source": [
        "arr_stop_beam_search = [ (1, 1.0),\n",
        "                          (4, 1.0),\n",
        "                          (4, 0.5),\n",
        "                          (4, 2.0),\n",
        "                          (8, 1.0) ]"
      ],
      "metadata": {
        "id": "j3uBxkpu3wqA"
      },
      "execution_count": null,
      "outputs": []
    },
    {
      "cell_type": "code",
      "source": [
        "for nb, lp in arr_stop_beam_search:\n",
        "\n",
        "    print(\"Generating hedgehog story...\")\n",
        "    hedgehog_ids = stop_beam_search(input_text_hedgehog, num_beams = nb,length_penalty= lp)\n",
        "    hedgehog_text = tokenizer.decode(hedgehog_ids, skip_special_tokens=True)\n",
        "\n",
        "    print(\"\\nGenerated hedgehog story:\")\n",
        "    print(hedgehog_text)\n",
        "\n",
        "    save_to_file(hedgehog_text, f'hedgehog_text_5_{nb}_{lp}.json')"
      ],
      "metadata": {
        "id": "St8S2BL-bMdK"
      },
      "execution_count": null,
      "outputs": []
    },
    {
      "cell_type": "code",
      "source": [
        "for nb, lp in arr_stop_beam_search:\n",
        "\n",
        "    print(\"\\nGenerating JSON...\")\n",
        "    json_ids = stop_beam_search(input_text_json, num_beams = nb,length_penalty= lp)\n",
        "    json_text = tokenizer.decode(json_ids, skip_special_tokens=True)\n",
        "\n",
        "    print(\"\\nGenerating JSON...\")\n",
        "    print(json_text)\n",
        "\n",
        "    save_to_file(json_text, f'json_text_5_{nb}_{lp}.json')"
      ],
      "metadata": {
        "id": "4AHup473bO2_"
      },
      "execution_count": null,
      "outputs": []
    },
    {
      "cell_type": "markdown",
      "source": [
        "Результаты:\n",
        "- Как отличаются результаты с\n",
        "1. num_beams=1, length_penalty=1.0 - greedy decoding\n",
        "2. num_beams=4, length_penalty=1.0 - разнообразные варинаты за счет рассматорения длинных цепочек, длина последовательности учитывается линейно, без сильного смещения в сторону коротких или длинных вариантов\n",
        "3. num_beams=4, length_penalty=0.5 - короткие варианты становятся более предпочтительными из за length_penalty меньше 1\n",
        "3. num_beams=4, length_penalty=0.5 - короткие варианты становятся более предпочтительными из за length_penalty меньше 1\n",
        "4. num_beams=4, length_penalty=2.0 - более развернутые и длинные варианты за счет  больше 1\n",
        "5. num_beams=8, length_penalty=1.0?\n",
        "\n",
        "- Есть ли какая-то закономерность при увеличении/уменьшении num_beams и length_penalty?\n",
        "\n",
        "при увеличении num_beams рассматриваются более длинные цепочки даже если первый токен был менее вероятен, при уменьшении - берется ниболее веротяные токены из первых комбинаций\n",
        "чем больше length_penalty тем длиннее и подробнее будет итоговый ответ\n",
        "- Помог ли текущий способ исправить проблемы, которые возникли с Greedy Decoding?\n",
        "- Для какого рода задач beam search подходит больше, чем nucleus sampling?\n",
        "\n",
        "Да, за счет рассмотрени цепочек и учитывания влияния выбора последующих токенов\n",
        "- Приложить сгенерированные текста про ёжика и сгенерированные JSON, по одному тексту про ёжика и одному JSON для каждого набора параметров"
      ],
      "metadata": {
        "id": "leJy9DprbPGr"
      }
    }
  ]
}