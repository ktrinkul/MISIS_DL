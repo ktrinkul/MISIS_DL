{
  "nbformat": 4,
  "nbformat_minor": 0,
  "metadata": {
    "colab": {
      "provenance": [],
      "gpuType": "T4"
    },
    "kernelspec": {
      "name": "python3",
      "display_name": "Python 3"
    },
    "language_info": {
      "name": "python"
    },
    "accelerator": "GPU"
  },
  "cells": [
    {
      "cell_type": "code",
      "source": [
        "# pip install -U datasets"
      ],
      "metadata": {
        "collapsed": true,
        "id": "fo5owTtzk8S7"
      },
      "execution_count": 2,
      "outputs": []
    },
    {
      "cell_type": "code",
      "source": [
        "from pydantic.dataclasses import dataclass\n",
        "import numpy as np\n",
        "\n",
        "from datasets import load_dataset"
      ],
      "metadata": {
        "id": "oGM1ms51lEe2"
      },
      "execution_count": 3,
      "outputs": []
    },
    {
      "cell_type": "code",
      "source": [
        "@dataclass\n",
        "class DataConfig:\n",
        "  dataset_path_or_name: str = \"sentence-transformers/natural-questions\"\n",
        "  test_size: float = 0.2"
      ],
      "metadata": {
        "id": "lAeN0wQrk-8Q"
      },
      "execution_count": 4,
      "outputs": []
    },
    {
      "cell_type": "code",
      "source": [
        "def load_data(cfg: DataConfig):\n",
        "  data = load_dataset(cfg.dataset_path_or_name)['train']\n",
        "  data = data.train_test_split(test_size=cfg.test_size, seed=1, shuffle=True)\n",
        "  return data"
      ],
      "metadata": {
        "id": "jooRU5oCk-_T"
      },
      "execution_count": 5,
      "outputs": []
    },
    {
      "cell_type": "code",
      "source": [
        "from sklearn.feature_extraction.text import TfidfVectorizer\n",
        "\n",
        "def train_tfidf(data_train) -> TfidfVectorizer:\n",
        "  vectorizer = TfidfVectorizer(\n",
        "    ngram_range=(1, 2),\n",
        "    max_features=50000,\n",
        "    min_df=5,\n",
        "    max_df=0.8,\n",
        "    sublinear_tf=True\n",
        "  )\n",
        "\n",
        "  vectorizer.fit(data_train['answer'])\n",
        "  return vectorizer"
      ],
      "metadata": {
        "id": "L1yp2FrwAY4Z"
      },
      "execution_count": 6,
      "outputs": []
    },
    {
      "cell_type": "code",
      "source": [
        "data = load_data(DataConfig())\n",
        "model = train_tfidf(data_train=data['train'])\n",
        "\n",
        "X_test = model.transform(data['test']['answer'])\n",
        "# X_test"
      ],
      "metadata": {
        "id": "MU3Pn6FJAXsu"
      },
      "execution_count": null,
      "outputs": []
    },
    {
      "cell_type": "markdown",
      "source": [
        "# Задача 1. Метрики\n"
      ],
      "metadata": {
        "id": "3xGhBv_Qk0di"
      }
    },
    {
      "cell_type": "markdown",
      "source": [
        "- Реализуйте функцию для расчёта метрики Recall@K. Эта метрика показывает, какая доля вопросов содержит в ТОП-K выдачи правильный документ. Функция должна вернуть число - значение метрики. Функция должна принимать:\n",
        "1. target - ID правильного документа к каждому запросу;\n",
        "2. predict - отсортированные по релевантности (метрике близости) ID документов к каждому запросу.\n",
        "\n",
        "- По такому же принципу реализуйте функцию для расчёта метрики MRR."
      ],
      "metadata": {
        "id": "fQ_elo1Ecq7U"
      }
    },
    {
      "cell_type": "code",
      "source": [
        "def calculate_recall_single(target, candidates, K):\n",
        "  return target in candidates[:K]\n",
        "\n",
        "def calculate_recall(targets, candidates, K):\n",
        "  return sum([calculate_recall_single(targets[i], candidates[i], K) for i in range(len(targets))]) / len(targets)"
      ],
      "metadata": {
        "id": "DZITQ9BBk0lV"
      },
      "execution_count": 8,
      "outputs": []
    },
    {
      "cell_type": "code",
      "source": [
        "def calculate_mrr_single(target, candidates):\n",
        "  return 1. / (np.where(candidates == target)[0] + 1)\n",
        "\n",
        "def calculate_mrr(targets, candidates):\n",
        "  return sum([calculate_mrr_single(targets[i], candidates[i]) for i in range(len(targets))]) / len(targets)"
      ],
      "metadata": {
        "id": "Ue-6QfT1fZQ7"
      },
      "execution_count": 9,
      "outputs": []
    },
    {
      "cell_type": "markdown",
      "source": [
        "# Задача 2. TF-IDF Baseline"
      ],
      "metadata": {
        "id": "dEkka0Pw-Ds6"
      }
    },
    {
      "cell_type": "markdown",
      "source": [
        "- Настройте алгоритм TF-IDF на обучающей выборке.\n",
        "- При помощи уже настроенного TF-IDF векторизуйте вопросы и документы из тестовой выборки.\n",
        "- При помощи метрики близости Cosine Similarity сделайте ранжирование документов из тестовой выборки для каждого вопроса из тестовой выборки.\n",
        "- Рассчитайте метрики MRR и Recall@1, Recall@3, Recall@10."
      ],
      "metadata": {
        "id": "UczmVxia92Bt"
      }
    },
    {
      "cell_type": "code",
      "source": [
        "from sklearn.metrics.pairwise import cosine_similarity\n",
        "\n",
        "def vectorize(model, data):\n",
        "  vectors = model.transform(data)\n",
        "  return vectors\n",
        "\n",
        "def evaluate(model, data_test):\n",
        "  doc_vectors = vectorize(model, data_test['answer'])\n",
        "  query_vectors = vectorize(model, data_test['query'])\n",
        "\n",
        "  mat = cosine_similarity(doc_vectors, query_vectors)\n",
        "  sorted_mat = (-mat).argsort(axis=1)\n",
        "\n",
        "  return {\n",
        "      'Recall@1' : calculate_recall([i for i in range(len(data_test['answer']))], sorted_mat, 1),\n",
        "      'Recall@3' : calculate_recall([i for i in range(len(data_test['answer']))], sorted_mat, 3),\n",
        "      'Recall@10' : calculate_recall([i for i in range(len(data_test['answer']))], sorted_mat, 10),\n",
        "      'MRR' : calculate_mrr([i for i in range(len(data_test['answer']))], sorted_mat)\n",
        "  }\n",
        "\n",
        "\n",
        "def find_similar_documents(query, documents, vectorizer, tfidf_matrix, top_n=3):\n",
        "    # Vectorize the query\n",
        "    query_vec = vectorizer.transform([query])\n",
        "\n",
        "    # Compute similarity between query and all documents\n",
        "    similarities = cosine_similarity(query_vec, tfidf_matrix).flatten()\n",
        "\n",
        "    # Get top N most similar documents\n",
        "    most_similar_indices = similarities.argsort()[::-1][:top_n]\n",
        "\n",
        "    # Return results\n",
        "    results = [(documents[i], similarities[i]) for i in most_similar_indices]\n",
        "    return results\n"
      ],
      "metadata": {
        "id": "A1jp60Rxgw0x"
      },
      "execution_count": 10,
      "outputs": []
    },
    {
      "cell_type": "code",
      "source": [
        "evaluate(model, data['test'])"
      ],
      "metadata": {
        "colab": {
          "base_uri": "https://localhost:8080/"
        },
        "id": "zdGqiywl_IZb",
        "outputId": "c4f694a5-bb37-4a57-abf7-bb26ccbe8cc5"
      },
      "execution_count": 11,
      "outputs": [
        {
          "output_type": "execute_result",
          "data": {
            "text/plain": [
              "{'Recall@1': 0.38609268219683746,\n",
              " 'Recall@3': 0.5858731979847359,\n",
              " 'Recall@10': 0.7548760413029381,\n",
              " 'MRR': array([0.51256309])}"
            ]
          },
          "metadata": {},
          "execution_count": 11
        }
      ]
    },
    {
      "cell_type": "markdown",
      "source": [
        "Вопросы:\n",
        "- Какие получились метрики? Что можно о них сказать?\n",
        "\n",
        "1. MRR (Mean Reciprocal Rank): на каком месте в среднем расположен ответ в формате дроби (1/2.63 = 0.38, значит где-то третье место)\n",
        "2. Recall@K = n%: в n случаях ответ находится в топ K\n",
        "\n",
        "- Какие ограничения есть у текущего подхода?\n",
        "Игнорирование контекста, синонимов, не учитывает выбор людей"
      ],
      "metadata": {
        "id": "1k6h5eIgAv00"
      }
    }
  ]
}