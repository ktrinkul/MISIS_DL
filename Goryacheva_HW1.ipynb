{
  "cells": [
    {
      "cell_type": "code",
      "execution_count": 87,
      "metadata": {
        "id": "C_qLRtRPhR4P"
      },
      "outputs": [],
      "source": [
        "import pandas as pd\n",
        "import numpy as np\n",
        "from sklearn.preprocessing import StandardScaler, OneHotEncoder\n",
        "import torch\n",
        "from torch.utils.data import Dataset, DataLoader, TensorDataset\n",
        "from sklearn.compose import ColumnTransformer\n",
        "from sklearn.pipeline import Pipeline\n",
        "from sklearn.linear_model import LogisticRegression\n",
        "from sklearn.metrics import roc_auc_score\n",
        "import torch.nn as nn\n",
        "import torch.optim as optim\n",
        "import matplotlib.pyplot as plt"
      ]
    },
    {
      "cell_type": "code",
      "execution_count": 88,
      "metadata": {
        "id": "Tnro2KHQhR4U"
      },
      "outputs": [],
      "source": [
        "from pathlib import Path\n",
        "\n",
        "import pandas as pd\n",
        "import torch\n",
        "from torch import Tensor\n",
        "\n",
        "_PERSON_INCOME_MAP = {\n",
        "    'MORTGAGE': 0,\n",
        "    'RENT': 1,\n",
        "    'OWN': 2,\n",
        "    'OTHER': 3\n",
        "}\n",
        "\n",
        "_LOAN_NTENT_MAP = {\n",
        "    'EDUCATION': 0,\n",
        "    'MEDICAL': 1,\n",
        "    'VENTURE': 2,\n",
        "    'PERSONAL': 3,\n",
        "    'DEBTCONSOLIDATION': 4,\n",
        "    'HOMEIMPROVEMENT': 5\n",
        "}\n",
        "\n",
        "_LOAN_GRADE_MAP = {\n",
        "    'A': 0,\n",
        "    'B': 1,\n",
        "    'C': 2,\n",
        "    'D': 3,\n",
        "    'E': 4,\n",
        "    'F': 5,\n",
        "    'G': 6\n",
        "}\n",
        "\n",
        "_CB_FILE_MAP = {\n",
        "    'N': 0,\n",
        "    'Y': 1\n",
        "}\n",
        "\n",
        "class LoanDataset(Dataset):\n",
        "    def __init__(self, data: pd.DataFrame):\n",
        "        self._data = data\n",
        "\n",
        "    def __len__(self):\n",
        "        return len(self._data)\n",
        "\n",
        "    def __getitem__(self, item: int) -> dict[str, dict[str | Tensor] | Tensor]:\n",
        "        item = self._data.iloc[item]\n",
        "        return {\n",
        "            'target': torch.scalar_tensor(item['loan_status'], dtype=torch.float32),\n",
        "            'cat_features': {\n",
        "                'person_home_ownership': torch.scalar_tensor(_PERSON_INCOME_MAP[item['person_home_ownership']], dtype=torch.long),\n",
        "                'loan_intent': torch.scalar_tensor(_LOAN_NTENT_MAP[item['loan_intent']], dtype=torch.long),\n",
        "                'loan_grade': torch.scalar_tensor(_LOAN_GRADE_MAP[item['loan_grade']], dtype=torch.long),\n",
        "                'cb_person_default_on_file': torch.scalar_tensor(_CB_FILE_MAP[item['cb_person_default_on_file']], dtype=torch.long)\n",
        "            },\n",
        "            'numeric_features': {\n",
        "                'person_age': torch.scalar_tensor(-1 if pd.isna(item['person_age']) else (item['person_age'] / 123), dtype=torch.float32),\n",
        "                'person_income': torch.scalar_tensor(-1 if pd.isna(item['person_income']) else (item['person_income'] / 1200000), dtype=torch.float32),\n",
        "                'person_emp_length': torch.scalar_tensor(-1 if pd.isna(item['person_emp_length']) else (item['person_emp_length'] / 123), dtype=torch.float32),\n",
        "                'loan_amnt': torch.scalar_tensor(-1 if pd.isna(item['loan_amnt']) else (item['loan_amnt'] / 35000), dtype=torch.float32),\n",
        "                'loan_int_rate': torch.scalar_tensor(-1 if pd.isna(item['loan_int_rate']) else (item['loan_int_rate'] / 23.22), dtype=torch.float32),\n",
        "                'loan_percent_income': torch.scalar_tensor(-1 if pd.isna(item['loan_percent_income']) else (item['loan_percent_income']), dtype=torch.float32),\n",
        "                'cb_person_cred_hist_length': torch.scalar_tensor(-1 if pd.isna(item['cb_person_cred_hist_length']) else (item['cb_person_cred_hist_length'] / 30), dtype=torch.float32)\n",
        "            }\n",
        "        }\n",
        "\n",
        "\n",
        "class LoanCollator:\n",
        "    def __call__(self, items: list[dict[str, dict[str | Tensor] | Tensor]]) -> dict[str, dict[str | Tensor] | Tensor]:\n",
        "        return {\n",
        "            'target': torch.stack([x['target'] for x in items]),\n",
        "            'cat_features': {\n",
        "                'person_home_ownership': torch.stack([x['cat_features']['person_home_ownership'] for x in items]),\n",
        "                'loan_intent': torch.stack([x['cat_features']['loan_intent'] for x in items]),\n",
        "                'loan_grade': torch.stack([x['cat_features']['loan_grade'] for x in items]),\n",
        "                'cb_person_default_on_file': torch.stack([x['cat_features']['cb_person_default_on_file'] for x in items])\n",
        "            },\n",
        "            'numeric_features': {\n",
        "                'person_age': torch.stack([x['numeric_features']['person_age'] for x in items]),\n",
        "                'person_income': torch.stack([x['numeric_features']['person_income'] for x in items]),\n",
        "                'person_emp_length': torch.stack([x['numeric_features']['person_emp_length'] for x in items]),\n",
        "                'loan_amnt': torch.stack([x['numeric_features']['loan_amnt'] for x in items]),\n",
        "                'loan_int_rate': torch.stack([x['numeric_features']['loan_int_rate'] for x in items]),\n",
        "                'loan_percent_income': torch.stack([x['numeric_features']['loan_percent_income'] for x in items]),\n",
        "                'cb_person_cred_hist_length': torch.stack([x['numeric_features']['cb_person_cred_hist_length'] for x in items])\n",
        "            }\n",
        "        }\n",
        "\n",
        "\n",
        "def load_loandata() -> tuple[LoanDataset, LoanDataset]:\n",
        "    df_train = pd.read_csv('loan_train.csv')\n",
        "    df_test = pd.read_csv('loan_test.csv')\n",
        "    return LoanDataset(df_train), LoanDataset(df_test)"
      ]
    },
    {
      "cell_type": "markdown",
      "metadata": {
        "id": "ByABeiXVhR4Z"
      },
      "source": [
        "# Эксперимент 1. Простая модель"
      ]
    },
    {
      "cell_type": "code",
      "execution_count": 89,
      "metadata": {
        "id": "BnVLMj2ehR4c"
      },
      "outputs": [],
      "source": [
        "class FirstModel(nn.Module):\n",
        "    def __init__(self, input_size, hidden_size=32):\n",
        "        super().__init__()\n",
        "\n",
        "        self.emb_person_home_ownership = nn.Embedding(4, embedding_dim=hidden_size)\n",
        "        self.emb_loan_intent = nn.Embedding(6, embedding_dim=hidden_size)\n",
        "        self.emb_loan_grade = nn.Embedding(7, embedding_dim=hidden_size)\n",
        "        self.emb_cb_person_default_on_file = nn.Embedding(2, embedding_dim=hidden_size)\n",
        "\n",
        "        self.numeric_linear = nn.Linear(7, hidden_size)\n",
        "\n",
        "        self.block = nn.Sequential(\n",
        "            nn.Linear(hidden_size, hidden_size*4),\n",
        "            nn.ReLU(),\n",
        "            nn.Linear(hidden_size*4, hidden_size)\n",
        "        )\n",
        "\n",
        "        self.linear_out = nn.Linear(hidden_size, 1)\n",
        "\n",
        "    def forward(self, cat_features: dict[str, Tensor], numeric_features: dict[str, Tensor]) -> Tensor:\n",
        "        x_person_home_ownership = self.emb_person_home_ownership(cat_features['person_home_ownership'])\n",
        "        x_loan_intent = self.emb_loan_intent(cat_features['loan_intent'])\n",
        "        x_loan_grade = self.emb_loan_grade(cat_features['loan_grade'])\n",
        "        x_cb_person_default_on_file = self.emb_cb_person_default_on_file(cat_features['cb_person_default_on_file'])\n",
        "\n",
        "        stacked_numeric = torch.stack([numeric_features['person_age'],\n",
        "                                       numeric_features['person_income'],\n",
        "                                       numeric_features['person_emp_length'],\n",
        "                                       numeric_features['loan_amnt'],\n",
        "                                       numeric_features['loan_int_rate'],\n",
        "                                       numeric_features['loan_percent_income'],\n",
        "                                       numeric_features['cb_person_cred_hist_length']\n",
        "                                       ], dim=-1)\n",
        "\n",
        "        x_numeric = self.numeric_linear(stacked_numeric)\n",
        "        x = x_person_home_ownership + x_loan_intent + x_loan_grade + x_cb_person_default_on_file + x_numeric\n",
        "\n",
        "        x = self.block(x)\n",
        "        x = self.linear_out(x)\n",
        "        return x.squeeze(-1)\n",
        "\n"
      ]
    },
    {
      "cell_type": "code",
      "source": [
        "def _map_to_device(batch: dict, dev: torch.device) -> dict:\n",
        "    batch['target'] = batch['target'].to(dev)\n",
        "\n",
        "    batch['cat_features']['person_home_ownership'] = batch['cat_features']['person_home_ownership'].to(dev)\n",
        "    batch['cat_features']['loan_intent'] = batch['cat_features']['loan_intent'].to(dev)\n",
        "    batch['cat_features']['loan_grade'] = batch['cat_features']['loan_grade'].to(dev)\n",
        "    batch['cat_features']['cb_person_default_on_file'] = batch['cat_features']['cb_person_default_on_file'].to(dev)\n",
        "\n",
        "    batch['numeric_features']['person_age'] = batch['numeric_features']['person_age'].to(dev)\n",
        "    batch['numeric_features']['person_income'] = batch['numeric_features']['person_income'].to(dev)\n",
        "    batch['numeric_features']['person_emp_length'] = batch['numeric_features']['person_emp_length'].to(dev)\n",
        "    batch['numeric_features']['loan_amnt'] = batch['numeric_features']['loan_amnt'].to(dev)\n",
        "    batch['numeric_features']['loan_int_rate'] = batch['numeric_features']['loan_int_rate'].to(dev)\n",
        "    batch['numeric_features']['loan_percent_income'] = batch['numeric_features']['loan_percent_income'].to(dev)\n",
        "    batch['numeric_features']['cb_person_cred_hist_length'] = batch['numeric_features']['cb_person_cred_hist_length'].to(dev)\n",
        ""
      ],
      "metadata": {
        "id": "XUu7NAThuwEL"
      },
      "execution_count": 90,
      "outputs": []
    },
    {
      "cell_type": "code",
      "source": [
        "# pip install aim"
      ],
      "metadata": {
        "collapsed": true,
        "id": "PvbMJ3vQ4zbW"
      },
      "execution_count": 91,
      "outputs": []
    },
    {
      "cell_type": "code",
      "source": [
        "# pip install torchmetrics"
      ],
      "metadata": {
        "id": "H60EY7uj1gn7"
      },
      "execution_count": 92,
      "outputs": []
    },
    {
      "cell_type": "code",
      "source": [
        "train_losses = []\n",
        "eval_losses = []\n",
        "train_roc_auc_values = []\n",
        "eval_roc_auc_values = []"
      ],
      "metadata": {
        "id": "NvFlJxYNCYmJ"
      },
      "execution_count": 93,
      "outputs": []
    },
    {
      "cell_type": "code",
      "execution_count": 94,
      "metadata": {
        "id": "0UK00A02hR4d"
      },
      "outputs": [],
      "source": [
        "from pathlib import Path\n",
        "\n",
        "import torch\n",
        "from aim import Run\n",
        "from torch.nn import BCEWithLogitsLoss\n",
        "from torch.optim import SGD\n",
        "from torch.utils.data import Dataset, DataLoader\n",
        "from torchmetrics import MeanMetric, AUROC\n",
        "from tqdm import tqdm\n",
        "\n",
        "def train(train_dataset, eval_dataset):\n",
        "    dev = torch.device('cuda:0')\n",
        "    base_hidden_size = 32\n",
        "    lr = 0.01\n",
        "    n_epochs = 10\n",
        "    batch_size = 32\n",
        "    seed = 42\n",
        "    weight_decay = 0.01\n",
        "\n",
        "    torch.random.manual_seed(seed)\n",
        "\n",
        "    loss_bce = BCEWithLogitsLoss()\n",
        "\n",
        "    collator = LoanCollator()\n",
        "    model = FirstModel(input_size = base_hidden_size, hidden_size=base_hidden_size).to(dev)\n",
        "    optimizer = SGD(model.parameters(), lr=lr, weight_decay=weight_decay)\n",
        "\n",
        "    run = Run(experiment='123')\n",
        "    run[\"hparams\"] = {\n",
        "        \"learning_rate\": lr,\n",
        "        \"base_hidden_size\": base_hidden_size,\n",
        "        \"batch_size\": batch_size,\n",
        "        'weight_decay': weight_decay\n",
        "    }\n",
        "\n",
        "    train_dl = DataLoader(train_dataset, batch_size=batch_size, num_workers=8, collate_fn=collator, pin_memory=True)\n",
        "    eval_dl = DataLoader(eval_dataset, batch_size=batch_size, num_workers=8, collate_fn=collator, pin_memory=True)\n",
        "\n",
        "    # train_losses = []\n",
        "    # eval_losses = []\n",
        "    # train_roc_auc_values = []\n",
        "    # eval_roc_auc_values = []\n",
        "\n",
        "    for i_epoch in tqdm(range(n_epochs)):\n",
        "        train_loss = MeanMetric().to(dev)\n",
        "        train_rocauc = AUROC(task='binary').to(dev)\n",
        "\n",
        "        for i, batch in enumerate(train_dl):\n",
        "            _map_to_device(batch, dev)\n",
        "\n",
        "            result = model(cat_features=batch['cat_features'], numeric_features=batch['numeric_features'])\n",
        "            loss_value = loss_bce(result, batch['target'])\n",
        "            loss_value.backward()\n",
        "            optimizer.step()\n",
        "            optimizer.zero_grad()\n",
        "\n",
        "            train_loss.update(loss_value)\n",
        "            train_rocauc.update(torch.sigmoid(result), batch['target'])\n",
        "\n",
        "        train_loss_value = train_loss.compute().item()\n",
        "        train_rocauc_value = train_rocauc.compute().item()\n",
        "        train_losses.append(train_loss_value)\n",
        "        train_roc_auc_values.append(train_rocauc_value)\n",
        "        run.track(train_loss_value, name='loss/train', step=i_epoch)\n",
        "        run.track(train_rocauc_value, name='roc-auc/train', step=i_epoch)\n",
        "\n",
        "        eval_loss = MeanMetric().to(dev)\n",
        "        eval_rocauc = AUROC(task='binary').to(dev)\n",
        "\n",
        "        model.eval()\n",
        "        with torch.no_grad():\n",
        "            for i_eval, batch_eval in enumerate(eval_dl):\n",
        "                _map_to_device(batch_eval, dev)\n",
        "\n",
        "                result_eval = model(cat_features=batch_eval['cat_features'], numeric_features=batch_eval['numeric_features'])\n",
        "                eval_loss_value = loss_bce(result_eval, batch_eval['target'])\n",
        "\n",
        "                eval_loss.update(eval_loss_value)\n",
        "                eval_rocauc.update(torch.sigmoid(result_eval), batch_eval['target'])\n",
        "\n",
        "        eval_loss_value = eval_loss.compute().item()\n",
        "        eval_rocauc_value = eval_rocauc.compute().item()\n",
        "        eval_losses.append(eval_loss_value)\n",
        "        eval_roc_auc_values.append(eval_rocauc_value)\n",
        "        run.track(eval_loss_value, name='loss/eval', step=i_epoch)\n",
        "        run.track(eval_rocauc_value, name='roc-auc/eval', step=i_epoch)\n",
        "\n",
        "        model.train()\n",
        "\n",
        "        eval_loss = eval_loss.compute().item()\n",
        "        eval_rocauc = eval_rocauc.compute().item()\n",
        "        run.track(eval_loss, name='loss/eval', step=i_epoch)\n",
        "        run.track(eval_rocauc, name='roc-auc/eval', step=i_epoch)\n"
      ]
    },
    {
      "cell_type": "code",
      "execution_count": 95,
      "metadata": {
        "colab": {
          "base_uri": "https://localhost:8080/"
        },
        "id": "Xf84jvaChR4d",
        "outputId": "dd901c8c-9996-4a92-ef5d-76761e2c38ca"
      },
      "outputs": [
        {
          "output_type": "stream",
          "name": "stderr",
          "text": [
            "/usr/local/lib/python3.11/dist-packages/torch/utils/data/dataloader.py:624: UserWarning: This DataLoader will create 8 worker processes in total. Our suggested max number of worker in current system is 2, which is smaller than what this DataLoader is going to create. Please be aware that excessive worker creation might get DataLoader running slow or even freeze, lower the worker number to avoid potential slowness/freeze if necessary.\n",
            "  warnings.warn(\n",
            "100%|██████████| 10/10 [04:15<00:00, 25.51s/it]\n"
          ]
        }
      ],
      "source": [
        "train_ds, test_ds = load_loandata()\n",
        "train(train_ds, test_ds)"
      ]
    },
    {
      "cell_type": "code",
      "source": [
        "# import torch\n",
        "# print(torch.cuda.is_available())\n",
        "# print(torch.cuda.device_count())\n",
        "# print(torch.cuda.get_device_name(0) if torch.cuda.is_available() else \"No CUDA GPU detected\")"
      ],
      "metadata": {
        "id": "0Wn5mebP3sCv"
      },
      "execution_count": 96,
      "outputs": []
    },
    {
      "cell_type": "code",
      "execution_count": 104,
      "metadata": {
        "colab": {
          "base_uri": "https://localhost:8080/",
          "height": 362
        },
        "id": "Szn7oUg9hR4i",
        "outputId": "ea40c502-59f5-4b29-a288-e200e5630985"
      },
      "outputs": [
        {
          "output_type": "display_data",
          "data": {
            "text/plain": [
              "<Figure size 1000x500 with 2 Axes>"
            ],
            "image/png": "[encoded data removed]"
          },
          "metadata": {}
        }
      ],
      "source": [
        "fig, axs = plt.subplots(1, 2, figsize=(10, 5))\n",
        "\n",
        "axs[0].plot(range(1, len(train_losses) + 1), train_losses, label='Train Loss', color='blue', marker='o')\n",
        "axs[0].plot(range(1, len(eval_losses) + 1), eval_losses, label='Eval Loss', color='orange', marker='o')\n",
        "axs[0].set_title('Loss')\n",
        "\n",
        "axs[1].plot(range(1, len(train_roc_auc_values) + 1), train_roc_auc_values, label='Train ROC-AUC', color='blue', marker='o')\n",
        "axs[1].plot(range(1, len(eval_roc_auc_values) + 1), eval_roc_auc_values, label='Eval ROC-AUC', color='orange', marker='o')\n",
        "axs[1].set_title('ROC-AUC')\n",
        "\n",
        "for i in range(2):\n",
        "  axs[i].set_xlabel('Epochs')\n",
        "  axs[i].set_ylabel('Value')\n",
        "  axs[i].legend()\n",
        "  axs[i].grid()"
      ]
    },
    {
      "cell_type": "markdown",
      "source": [
        "Вывод: С каждой эпохой результаты улучшаются и делать менее 10 не стоит, но и много эпох брать не надо, так как под конец графики изменяются не значительно и при большом колве эпох может произойти переобучение"
      ],
      "metadata": {
        "id": "yvS_LhS7D-D6"
      }
    },
    {
      "cell_type": "markdown",
      "source": [
        "# Эксперимент 2. Модель побольше"
      ],
      "metadata": {
        "id": "sXThop8sEdON"
      }
    },
    {
      "cell_type": "code",
      "source": [
        "class SecondModel(nn.Module):\n",
        "    def __init__(self, input_size, hidden_size=32):\n",
        "        super().__init__()\n",
        "\n",
        "        self.emb_person_home_ownership = nn.Embedding(4, embedding_dim=hidden_size)\n",
        "        self.emb_loan_intent = nn.Embedding(6, embedding_dim=hidden_size)\n",
        "        self.emb_loan_grade = nn.Embedding(7, embedding_dim=hidden_size)\n",
        "        self.emb_cb_person_default_on_file = nn.Embedding(2, embedding_dim=hidden_size)\n",
        "\n",
        "        self.numeric_linear = nn.Linear(7, hidden_size)\n",
        "\n",
        "        self.block1 = nn.Sequential(\n",
        "            nn.Linear(hidden_size, hidden_size*4),\n",
        "            nn.ReLU(),\n",
        "            nn.Linear(hidden_size*4, hidden_size)\n",
        "        )\n",
        "        # self.block2 = nn.Sequential(\n",
        "        #     nn.Linear(hidden_size, hidden_size*4),\n",
        "        #     nn.ReLU(),\n",
        "        #     nn.Linear(hidden_size*4, hidden_size)\n",
        "        # )\n",
        "        # self.block3 = nn.Sequential(\n",
        "        #     nn.Linear(hidden_size, hidden_size*4),\n",
        "        #     nn.ReLU(),\n",
        "        #     nn.Linear(hidden_size*4, hidden_size)\n",
        "        # )\n",
        "\n",
        "        self.linear_out = nn.Linear(hidden_size, 1)\n",
        "\n",
        "    def forward(self, cat_features: dict[str, Tensor], numeric_features: dict[str, Tensor]) -> Tensor:\n",
        "        x_person_home_ownership = self.emb_person_home_ownership(cat_features['person_home_ownership'])\n",
        "        x_loan_intent = self.emb_loan_intent(cat_features['loan_intent'])\n",
        "        x_loan_grade = self.emb_loan_grade(cat_features['loan_grade'])\n",
        "        x_cb_person_default_on_file = self.emb_cb_person_default_on_file(cat_features['cb_person_default_on_file'])\n",
        "\n",
        "        stacked_numeric = torch.stack([numeric_features['person_age'],\n",
        "                                       numeric_features['person_income'],\n",
        "                                       numeric_features['person_emp_length'],\n",
        "                                       numeric_features['loan_amnt'],\n",
        "                                       numeric_features['loan_int_rate'],\n",
        "                                       numeric_features['loan_percent_income'],\n",
        "                                       numeric_features['cb_person_cred_hist_length']\n",
        "                                       ], dim=-1)\n",
        "\n",
        "        x_numeric = self.numeric_linear(stacked_numeric)\n",
        "        x = x_person_home_ownership + x_loan_intent + x_loan_grade + x_cb_person_default_on_file + x_numeric\n",
        "\n",
        "        x = self.block1(x)\n",
        "        x = self.linear_out(x)\n",
        "        return x.squeeze(-1)\n",
        "\n"
      ],
      "metadata": {
        "id": "nhoBBGWnEidP"
      },
      "execution_count": null,
      "outputs": []
    },
    {
      "cell_type": "code",
      "source": [],
      "metadata": {
        "id": "sONoNpwqE7tS"
      },
      "execution_count": null,
      "outputs": []
    }
  ],
  "metadata": {
    "kernelspec": {
      "display_name": "Python 3",
      "name": "python3"
    },
    "language_info": {
      "codemirror_mode": {
        "name": "ipython",
        "version": 3
      },
      "file_extension": ".py",
      "mimetype": "text/x-python",
      "name": "python",
      "nbconvert_exporter": "python",
      "pygments_lexer": "ipython3",
      "version": "3.11.9"
    },
    "colab": {
      "provenance": [],
      "gpuType": "T4"
    },
    "accelerator": "GPU"
  },
  "nbformat": 4,
  "nbformat_minor": 0
}